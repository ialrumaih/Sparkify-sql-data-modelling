{
  "cells": [
    {
      "cell_type": "markdown",
      "metadata": {
        "pycharm": {}
      },
      "source": [
        "# ETL Processes\n",
        "Use this notebook to develop the ETL process for each of your tables before completing the `etl.py` file to load the whole datasets."
      ]
    },
    {
      "cell_type": "code",
      "execution_count": 1,
      "metadata": {
        "pycharm": {}
      },
      "outputs": [],
      "source": [
        "import os\n",
        "import glob\n",
        "import psycopg2\n",
        "import pandas as pd\n",
        "from sql_queries import *\n",
        "from create_tables import *"
      ]
    },
    {
      "cell_type": "code",
      "execution_count": 2,
      "metadata": {
        "pycharm": {}
      },
      "outputs": [],
      "source": [
        "try:\n",
        "    create_database()\n",
        "except psycopg2.Error as e:\n",
        "    print(\u0027Error creating database\u0027)\n",
        "    print(e)\n",
        "\n",
        "try:\n",
        "    conn \u003d psycopg2.connect(\"host\u003d127.0.0.1 dbname\u003dstudentdb user\u003dstudent password\u003dstudent\")\n",
        "    cur \u003d conn.cursor()\n",
        "    drop_tables(cur, conn)\n",
        "    create_tables(cur, conn)\n",
        "except psycopg2.Error as e:\n",
        "    print(\u0027Error dropping and creating tables\u0027)\n",
        "    print(e)\n"
      ]
    },
    {
      "cell_type": "code",
      "execution_count": 1,
      "metadata": {
        "pycharm": {
          "is_executing": false
        }
      },
      "outputs": [],
      "source": [
        "def get_files(filepath):\n",
        "    all_files \u003d []\n",
        "    for root, dirs, files in os.walk(filepath):\n",
        "        files \u003d glob.glob(os.path.join(root,\u0027*.json\u0027))\n",
        "        for f in files :\n",
        "            all_files.append(os.path.abspath(f))\n",
        "    \n",
        "    return all_files"
      ]
    },
    {
      "cell_type": "markdown",
      "metadata": {
        "pycharm": {}
      },
      "source": [
        "# Process `song_data`\n",
        "In this first part, you\u0027ll perform ETL on the first dataset, `song_data`, to create the `songs` and `artists` dimensional tables.\n",
        "\n",
        "Let\u0027s perform ETL on a single song file and load a single record into each table to start.\n",
        "- Use the `get_files` function provided above to get a list of all song JSON files in `data/song_data`\n",
        "- Select the first song in this list\n",
        "- Read the song file and view the data"
      ]
    },
    {
      "cell_type": "code",
      "execution_count": 4,
      "metadata": {
        "pycharm": {}
      },
      "outputs": [],
      "source": [
        "song_files \u003d get_files(\u0027data/song_data\u0027)"
      ]
    },
    {
      "cell_type": "code",
      "execution_count": 5,
      "metadata": {
        "pycharm": {}
      },
      "outputs": [
        {
          "data": {
            "text/html": [
              "\u003cdiv\u003e\n",
              "\u003cstyle scoped\u003e\n",
              "    .dataframe tbody tr th:only-of-type {\n",
              "        vertical-align: middle;\n",
              "    }\n",
              "\n",
              "    .dataframe tbody tr th {\n",
              "        vertical-align: top;\n",
              "    }\n",
              "\n",
              "    .dataframe thead th {\n",
              "        text-align: right;\n",
              "    }\n",
              "\u003c/style\u003e\n",
              "\u003ctable border\u003d\"1\" class\u003d\"dataframe\"\u003e\n",
              "  \u003cthead\u003e\n",
              "    \u003ctr style\u003d\"text-align: right;\"\u003e\n",
              "      \u003cth\u003e\u003c/th\u003e\n",
              "      \u003cth\u003e0\u003c/th\u003e\n",
              "    \u003c/tr\u003e\n",
              "  \u003c/thead\u003e\n",
              "  \u003ctbody\u003e\n",
              "    \u003ctr\u003e\n",
              "      \u003cth\u003enum_songs\u003c/th\u003e\n",
              "      \u003ctd\u003e1\u003c/td\u003e\n",
              "    \u003c/tr\u003e\n",
              "    \u003ctr\u003e\n",
              "      \u003cth\u003eartist_id\u003c/th\u003e\n",
              "      \u003ctd\u003eARNNKDK1187B98BBD5\u003c/td\u003e\n",
              "    \u003c/tr\u003e\n",
              "    \u003ctr\u003e\n",
              "      \u003cth\u003eartist_latitude\u003c/th\u003e\n",
              "      \u003ctd\u003e45.8073\u003c/td\u003e\n",
              "    \u003c/tr\u003e\n",
              "    \u003ctr\u003e\n",
              "      \u003cth\u003eartist_longitude\u003c/th\u003e\n",
              "      \u003ctd\u003e15.9676\u003c/td\u003e\n",
              "    \u003c/tr\u003e\n",
              "    \u003ctr\u003e\n",
              "      \u003cth\u003eartist_location\u003c/th\u003e\n",
              "      \u003ctd\u003eZagreb Croatia\u003c/td\u003e\n",
              "    \u003c/tr\u003e\n",
              "  \u003c/tbody\u003e\n",
              "\u003c/table\u003e\n",
              "\u003c/div\u003e"
            ],
            "text/plain": [
              "                                   0\n",
              "num_songs                          1\n",
              "artist_id         ARNNKDK1187B98BBD5\n",
              "artist_latitude              45.8073\n",
              "artist_longitude             15.9676\n",
              "artist_location       Zagreb Croatia"
            ]
          },
          "execution_count": 5,
          "metadata": {},
          "output_type": "execute_result"
        }
      ],
      "source": [
        "df \u003d pd.DataFrame(pd.read_json(song_files[0], typ\u003d\u0027series\u0027))\n",
        "df.head()"
      ]
    },
    {
      "cell_type": "markdown",
      "metadata": {
        "pycharm": {}
      },
      "source": [
        "## #1: `songs` Table\n",
        "#### Extract Data for Songs Table\n",
        "- Select columns for song ID, title, artist ID, year, and duration\n",
        "- Use `df.values` to select just the values from the dataframe\n",
        "- Index to select the first (only) record in the dataframe\n",
        "- Convert the array to a list and set it to `song_data`"
      ]
    },
    {
      "cell_type": "code",
      "execution_count": 6,
      "metadata": {
        "pycharm": {}
      },
      "outputs": [],
      "source": [
        "song_data \u003d df[0][[\u0027song_id\u0027, \u0027title\u0027, \u0027artist_id\u0027, \u0027year\u0027, \u0027duration\u0027]].values.tolist()"
      ]
    },
    {
      "cell_type": "markdown",
      "metadata": {
        "pycharm": {}
      },
      "source": [
        "#### Insert Record into Song Table\n",
        "Implement the `song_table_insert` query in `sql_queries.py` and run the cell below to insert a record for this song into the `songs` table. Remember to run `create_tables.py` before running the cell below to ensure you\u0027ve created/resetted the `songs` table in the sparkify database."
      ]
    },
    {
      "cell_type": "code",
      "execution_count": 7,
      "metadata": {
        "pycharm": {}
      },
      "outputs": [
        {
          "name": "stdout",
          "output_type": "stream",
          "text": [
            "[(\u0027fact_songplays\u0027,), (\u0027dim_users\u0027,), (\u0027dim_songs\u0027,), (\u0027dim_artists\u0027,), (\u0027dim_time\u0027,)]\n",
            "[(\u0027SOFNOQK12AB01840FC\u0027, \u0027Kutt Free (DJ Volume Remix)\u0027, \u0027ARNNKDK1187B98BBD5\u0027, 0, Decimal(\u0027407.37914\u0027))]\n"
          ]
        }
      ],
      "source": [
        "\n",
        "cur.execute(\"SELECT table_name FROM information_schema.tables WHERE table_schema\u003d\u0027public\u0027\", song_data)\n",
        "\n",
        "print(cur.fetchall())\n",
        "cur.execute(dim_songs_table_insert, song_data)\n",
        "conn.commit()\n",
        "\n",
        "cur.execute(\"SELECT * from dim_songs\", song_data)\n",
        "print(cur.fetchall())"
      ]
    },
    {
      "cell_type": "markdown",
      "metadata": {
        "pycharm": {}
      },
      "source": [
        "Run `test.ipynb` to see if you\u0027ve successfully added a record to this table."
      ]
    },
    {
      "cell_type": "markdown",
      "metadata": {
        "pycharm": {}
      },
      "source": [
        "## #2: `artists` Table\n",
        "#### Extract Data for Artists Table\n",
        "- Select columns for artist ID, name, location, latitude, and longitude\n",
        "- Use `df.values` to select just the values from the dataframe\n",
        "- Index to select the first (only) record in the dataframe\n",
        "- Convert the array to a list and set it to `artist_data`"
      ]
    },
    {
      "cell_type": "code",
      "execution_count": 8,
      "metadata": {
        "pycharm": {}
      },
      "outputs": [
        {
          "name": "stdout",
          "output_type": "stream",
          "text": [
            "[\u0027ARNNKDK1187B98BBD5\u0027, \u0027Jinx\u0027, \u0027Zagreb Croatia\u0027, 45.80726, 15.967600000000001]\n"
          ]
        }
      ],
      "source": [
        "artist_data \u003d df[0][[\u0027artist_id\u0027, \u0027artist_name\u0027, \u0027artist_location\u0027, \u0027artist_latitude\u0027, \u0027artist_longitude\u0027]].values.tolist()\n",
        "print(artist_data)"
      ]
    },
    {
      "cell_type": "markdown",
      "metadata": {
        "pycharm": {}
      },
      "source": [
        "#### Insert Record into Artist Table\n",
        "Implement the `artist_table_insert` query in `sql_queries.py` and run the cell below to insert a record for this song\u0027s artist into the `artists` table. Remember to run `create_tables.py` before running the cell below to ensure you\u0027ve created/resetted the `artists` table in the sparkify database."
      ]
    },
    {
      "cell_type": "code",
      "execution_count": 9,
      "metadata": {
        "pycharm": {}
      },
      "outputs": [
        {
          "name": "stdout",
          "output_type": "stream",
          "text": [
            "[(\u0027ARNNKDK1187B98BBD5\u0027, \u0027Jinx\u0027, \u0027Zagreb Croatia\u0027, 45.8073, 15.9676)]\n"
          ]
        }
      ],
      "source": [
        "cur.execute(dim_artists_table_insert, artist_data)\n",
        "conn.commit()\n",
        "\n",
        "cur.execute(\"SELECT * from dim_artists\", song_data)\n",
        "print(cur.fetchall())"
      ]
    },
    {
      "cell_type": "markdown",
      "metadata": {
        "pycharm": {}
      },
      "source": [
        "Run `test.ipynb` to see if you\u0027ve successfully added a record to this table."
      ]
    },
    {
      "cell_type": "markdown",
      "metadata": {
        "pycharm": {}
      },
      "source": [
        "# Process `log_data`\n",
        "In this part, you\u0027ll perform ETL on the second dataset, `log_data`, to create the `time` and `users` dimensional tables, as well as the `songplays` fact table.\n",
        "\n",
        "Let\u0027s perform ETL on a single log file and load a single record into each table.\n",
        "- Use the `get_files` function provided above to get a list of all log JSON files in `data/log_data`\n",
        "- Select the first log file in this list\n",
        "- Read the log file and view the data"
      ]
    },
    {
      "cell_type": "code",
      "execution_count": 10,
      "metadata": {
        "pycharm": {}
      },
      "outputs": [],
      "source": [
        "log_files \u003d get_files(\u0027data/log_data\u0027)"
      ]
    },
    {
      "cell_type": "code",
      "execution_count": 11,
      "metadata": {
        "pycharm": {}
      },
      "outputs": [
        {
          "data": {
            "text/html": [
              "\u003cdiv\u003e\n",
              "\u003cstyle scoped\u003e\n",
              "    .dataframe tbody tr th:only-of-type {\n",
              "        vertical-align: middle;\n",
              "    }\n",
              "\n",
              "    .dataframe tbody tr th {\n",
              "        vertical-align: top;\n",
              "    }\n",
              "\n",
              "    .dataframe thead th {\n",
              "        text-align: right;\n",
              "    }\n",
              "\u003c/style\u003e\n",
              "\u003ctable border\u003d\"1\" class\u003d\"dataframe\"\u003e\n",
              "  \u003cthead\u003e\n",
              "    \u003ctr style\u003d\"text-align: right;\"\u003e\n",
              "      \u003cth\u003e\u003c/th\u003e\n",
              "      \u003cth\u003e0\u003c/th\u003e\n",
              "    \u003c/tr\u003e\n",
              "  \u003c/thead\u003e\n",
              "  \u003ctbody\u003e\n",
              "    \u003ctr\u003e\n",
              "      \u003cth\u003e0\u003c/th\u003e\n",
              "      \u003ctd\u003e{\u0027artist\u0027: \u0027Sydney Youngblood\u0027, \u0027auth\u0027: \u0027Logge...\u003c/td\u003e\n",
              "    \u003c/tr\u003e\n",
              "    \u003ctr\u003e\n",
              "      \u003cth\u003e1\u003c/th\u003e\n",
              "      \u003ctd\u003e{\u0027artist\u0027: \u0027Gang Starr\u0027, \u0027auth\u0027: \u0027Logged In\u0027, ...\u003c/td\u003e\n",
              "    \u003c/tr\u003e\n",
              "    \u003ctr\u003e\n",
              "      \u003cth\u003e2\u003c/th\u003e\n",
              "      \u003ctd\u003e{\u0027artist\u0027: \u00273OH!3\u0027, \u0027auth\u0027: \u0027Logged In\u0027, \u0027firs...\u003c/td\u003e\n",
              "    \u003c/tr\u003e\n",
              "    \u003ctr\u003e\n",
              "      \u003cth\u003e3\u003c/th\u003e\n",
              "      \u003ctd\u003e{\u0027artist\u0027: \u0027RÃÂ¶yksopp\u0027, \u0027auth\u0027: \u0027Logged In\u0027,...\u003c/td\u003e\n",
              "    \u003c/tr\u003e\n",
              "    \u003ctr\u003e\n",
              "      \u003cth\u003e4\u003c/th\u003e\n",
              "      \u003ctd\u003e{\u0027artist\u0027: \u0027Kajagoogoo\u0027, \u0027auth\u0027: \u0027Logged In\u0027, ...\u003c/td\u003e\n",
              "    \u003c/tr\u003e\n",
              "  \u003c/tbody\u003e\n",
              "\u003c/table\u003e\n",
              "\u003c/div\u003e"
            ],
            "text/plain": [
              "                                                   0\n",
              "0  {\u0027artist\u0027: \u0027Sydney Youngblood\u0027, \u0027auth\u0027: \u0027Logge...\n",
              "1  {\u0027artist\u0027: \u0027Gang Starr\u0027, \u0027auth\u0027: \u0027Logged In\u0027, ...\n",
              "2  {\u0027artist\u0027: \u00273OH!3\u0027, \u0027auth\u0027: \u0027Logged In\u0027, \u0027firs...\n",
              "3  {\u0027artist\u0027: \u0027RÃÂ¶yksopp\u0027, \u0027auth\u0027: \u0027Logged In\u0027,...\n",
              "4  {\u0027artist\u0027: \u0027Kajagoogoo\u0027, \u0027auth\u0027: \u0027Logged In\u0027, ..."
            ]
          },
          "execution_count": 11,
          "metadata": {},
          "output_type": "execute_result"
        }
      ],
      "source": [
        "df \u003d pd.DataFrame(pd.read_json(log_files[0], lines\u003dTrue, typ\u003d\u0027series\u0027))\n",
        "df.head()"
      ]
    },
    {
      "cell_type": "markdown",
      "metadata": {
        "pycharm": {}
      },
      "source": [
        "## #3: `time` Table\n",
        "#### Extract Data for Time Table\n",
        "- Filter records by `NextSong` action\n",
        "- Convert the `ts` timestamp column to datetime\n",
        "  - Hint: the current timestamp is in milliseconds\n",
        "- Extract the timestamp, hour, day, week of year, month, year, and weekday from the `ts` column and set `time_data` to a list containing these values in order\n",
        "  - Hint: use pandas\u0027 [`dt` attribute](https://pandas.pydata.org/pandas-docs/stable/reference/api/pandas.Series.dt.html) to access easily datetimelike properties.\n",
        "- Specify labels for these columns and set to `column_labels`\n",
        "- Create a dataframe, `time_df,` containing the time data for this file by combining `column_labels` and `time_data` into a dictionary and converting this into a dataframe"
      ]
    },
    {
      "cell_type": "code",
      "execution_count": 12,
      "metadata": {
        "pycharm": {}
      },
      "outputs": [
        {
          "data": {
            "text/plain": [
              "0    {\u0027artist\u0027: \u0027Sydney Youngblood\u0027, \u0027auth\u0027: \u0027Logge...\n",
              "1    {\u0027artist\u0027: \u0027Gang Starr\u0027, \u0027auth\u0027: \u0027Logged In\u0027, ...\n",
              "2    {\u0027artist\u0027: \u00273OH!3\u0027, \u0027auth\u0027: \u0027Logged In\u0027, \u0027firs...\n",
              "3    {\u0027artist\u0027: \u0027RÃÂ¶yksopp\u0027, \u0027auth\u0027: \u0027Logged In\u0027,...\n",
              "4    {\u0027artist\u0027: \u0027Kajagoogoo\u0027, \u0027auth\u0027: \u0027Logged In\u0027, ...\n",
              "Name: 0, dtype: object"
            ]
          },
          "execution_count": 12,
          "metadata": {},
          "output_type": "execute_result"
        }
      ],
      "source": [
        "df \u003d pd.DataFrame(pd.read_json(log_files[0], lines\u003dTrue, typ\u003d\u0027series\u0027))[0]\n",
        "df.head()"
      ]
    },
    {
      "cell_type": "code",
      "execution_count": 13,
      "metadata": {
        "pycharm": {}
      },
      "outputs": [],
      "source": [
        "time_in_ms \u003d df[0][\u0027ts\u0027]\n",
        "timestamp \u003d pd.to_datetime(time_in_ms, unit\u003d\u0027ms\u0027)\n",
        "\n",
        "time_in_hours \u003d timestamp.hour\n",
        "time_in_days \u003d timestamp.day\n",
        "time_in_week_of_year \u003d timestamp.week\n",
        "time_in_month_of_year \u003d timestamp.month\n",
        "time_in_year \u003d timestamp.year\n",
        "time_in_weekday \u003d timestamp.weekday()\n",
        "\n",
        "time_data \u003d [timestamp, time_in_hours, time_in_days, time_in_week_of_year,\n",
        "             time_in_month_of_year, time_in_year, time_in_weekday]"
      ]
    },
    {
      "cell_type": "markdown",
      "metadata": {
        "pycharm": {}
      },
      "source": [
        "#### Insert Records into Time Table\n",
        "Implement the `time_table_insert` query in `sql_queries.py` and run the cell below to insert records for the timestamps in this log file into the `time` table. Remember to run `create_tables.py` before running the cell below to ensure you\u0027ve created/resetted the `time` table in the sparkify database."
      ]
    },
    {
      "cell_type": "code",
      "execution_count": 14,
      "metadata": {
        "pycharm": {}
      },
      "outputs": [
        {
          "name": "stdout",
          "output_type": "stream",
          "text": [
            "[(datetime.datetime(2018, 11, 29, 0, 0, 57, 796000), 0, 29, 48, 11, 2018, \u00273\u0027)]\n"
          ]
        }
      ],
      "source": [
        "cur.execute(dim_time_table_insert, time_data)\n",
        "conn.commit()\n",
        "\n",
        "cur.execute(\"SELECT * from dim_time\", song_data)\n",
        "print(cur.fetchall())"
      ]
    },
    {
      "cell_type": "markdown",
      "metadata": {
        "pycharm": {}
      },
      "source": [
        "Run `test.ipynb` to see if you\u0027ve successfully added records to this table."
      ]
    },
    {
      "cell_type": "markdown",
      "metadata": {
        "pycharm": {}
      },
      "source": [
        "## #4: `users` Table\n",
        "#### Extract Data for Users Table\n",
        "- Select columns for user ID, first name, last name, gender and level and set to `user_df`"
      ]
    },
    {
      "cell_type": "code",
      "execution_count": 15,
      "metadata": {
        "pycharm": {}
      },
      "outputs": [
        {
          "name": "stdout",
          "output_type": "stream",
          "text": [
            "[\u002773\u0027, \u0027Jacob\u0027, \u0027Klein\u0027, \u0027M\u0027, \u0027paid\u0027]\n"
          ]
        }
      ],
      "source": [
        "user_df \u003d df[0]\n",
        "user_data \u003d [user_df[\u0027userId\u0027], user_df[\u0027firstName\u0027], user_df[\u0027lastName\u0027], user_df[\u0027gender\u0027], user_df[\u0027level\u0027]]\n",
        "print(user_data)"
      ]
    },
    {
      "cell_type": "markdown",
      "metadata": {
        "pycharm": {}
      },
      "source": [
        "#### Insert Records into Users Table\n",
        "Implement the `user_table_insert` query in `sql_queries.py` and run the cell below to insert records for the users in this log file into the `users` table. Remember to run `create_tables.py` before running the cell below to ensure you\u0027ve created/resetted the `users` table in the sparkify database."
      ]
    },
    {
      "cell_type": "code",
      "execution_count": 16,
      "metadata": {
        "pycharm": {}
      },
      "outputs": [
        {
          "name": "stdout",
          "output_type": "stream",
          "text": [
            "[(\u002773\u0027, \u0027Jacob\u0027, \u0027Klein\u0027, \u0027M\u0027, \u0027paid\u0027)]\n"
          ]
        }
      ],
      "source": [
        "cur.execute(dim_users_table_insert, user_data)\n",
        "conn.commit()\n",
        "    \n",
        "cur.execute(\"SELECT * from dim_users\", user_data)\n",
        "print(cur.fetchall())"
      ]
    },
    {
      "cell_type": "markdown",
      "metadata": {
        "pycharm": {}
      },
      "source": [
        "Run `test.ipynb` to see if you\u0027ve successfully added records to this table."
      ]
    },
    {
      "cell_type": "markdown",
      "metadata": {
        "pycharm": {}
      },
      "source": [
        "## #5: `songplays` Table\n",
        "#### Extract Data and Songplays Table\n",
        "This one is a little more complicated since information from the songs table, artists table, and original log file are all needed for the `songplays` table. Since the log file does not specify an ID for either the song or the artist, you\u0027ll need to get the song ID and artist ID by querying the songs and artists tables to find matches based on song title, artist name, and song duration time.\n",
        "- Implement the `song_select` query in `sql_queries.py` to find the song ID and artist ID based on the title, artist name, and duration of a song.\n",
        "- Select the timestamp, user ID, level, song ID, artist ID, session ID, location, and user agent and set to `songplay_data`\n",
        "\n",
        "#### Insert Records into Songplays Table\n",
        "- Implement the `songplay_table_insert` query and run the cell below to insert records for the songplay actions in this log file into the `songplays` table. Remember to run `create_tables.py` before running the cell below to ensure you\u0027ve created/resetted the `songplays` table in the sparkify database."
      ]
    },
    {
      "cell_type": "code",
      "execution_count": 24,
      "metadata": {
        "pycharm": {}
      },
      "outputs": [
        {
          "ename": "UnicodeEncodeError",
          "evalue": "\u0027ascii\u0027 codec can\u0027t encode characters in position 5-8: ordinal not in range(128)",
          "output_type": "error",
          "traceback": [
            "\u001b[0;31m---------------------------------------------------------------------------\u001b[0m",
            "\u001b[0;31mUnicodeEncodeError\u001b[0m                        Traceback (most recent call last)",
            "\u001b[0;32m\u003cipython-input-24-1ac43f6507e3\u003e\u001b[0m in \u001b[0;36m\u003cmodule\u003e\u001b[0;34m()\u001b[0m\n\u001b[1;32m     12\u001b[0m \u001b[0;34m\u001b[0m\u001b[0m\n\u001b[1;32m     13\u001b[0m         \u001b[0;31m# if no song id exists, skip row insert\u001b[0m\u001b[0;34m\u001b[0m\u001b[0;34m\u001b[0m\u001b[0m\n\u001b[0;32m---\u003e 14\u001b[0;31m         \u001b[0msong_id\u001b[0m \u001b[0;34m\u003d\u001b[0m \u001b[0mget_song_id\u001b[0m\u001b[0;34m(\u001b[0m\u001b[0mcur\u001b[0m\u001b[0;34m,\u001b[0m \u001b[0mconn\u001b[0m\u001b[0;34m,\u001b[0m \u001b[0msong_data\u001b[0m\u001b[0;34m)\u001b[0m\u001b[0;34m\u001b[0m\u001b[0m\n\u001b[0m\u001b[1;32m     15\u001b[0m \u001b[0;34m\u001b[0m\u001b[0m\n\u001b[1;32m     16\u001b[0m         \u001b[0;32mif\u001b[0m \u001b[0msong_id\u001b[0m \u001b[0;32mis\u001b[0m \u001b[0;32mNone\u001b[0m\u001b[0;34m:\u001b[0m\u001b[0;34m\u001b[0m\u001b[0m\n",
            "\u001b[0;32m/home/workspace/create_tables.py\u001b[0m in \u001b[0;36mget_song_id\u001b[0;34m(cur, conn, datalist)\u001b[0m\n\u001b[1;32m     49\u001b[0m \u001b[0;34m\u001b[0m\u001b[0m\n\u001b[1;32m     50\u001b[0m \u001b[0;32mdef\u001b[0m \u001b[0mget_song_id\u001b[0m\u001b[0;34m(\u001b[0m\u001b[0mcur\u001b[0m\u001b[0;34m,\u001b[0m \u001b[0mconn\u001b[0m\u001b[0;34m,\u001b[0m \u001b[0mdatalist\u001b[0m\u001b[0;34m)\u001b[0m\u001b[0;34m:\u001b[0m\u001b[0;34m\u001b[0m\u001b[0m\n\u001b[0;32m---\u003e 51\u001b[0;31m     \u001b[0;32mtry\u001b[0m\u001b[0;34m:\u001b[0m\u001b[0;34m\u001b[0m\u001b[0m\n\u001b[0m\u001b[1;32m     52\u001b[0m \u001b[0;31m#         to reviewer: i have no clue what causes this error, it seems to be related to a string conversion python is doing\u0027\u001b[0m\u001b[0;34m\u001b[0m\u001b[0;34m\u001b[0m\u001b[0m\n\u001b[1;32m     53\u001b[0m \u001b[0;31m#         (this line executes perfectly in my IDE)\u001b[0m\u001b[0;34m\u001b[0m\u001b[0;34m\u001b[0m\u001b[0m\n",
            "\u001b[0;31mUnicodeEncodeError\u001b[0m: \u0027ascii\u0027 codec can\u0027t encode characters in position 5-8: ordinal not in range(128)"
          ]
        }
      ],
      "source": [
        "\n",
        "for log in log_files:\n",
        "    df \u003d pd.DataFrame(pd.read_json(log, lines\u003dTrue, typ\u003d\u0027series\u0027))\n",
        "    \n",
        "    for row in df[0]:\n",
        "        # skip the row insert if None value is present\n",
        "        if row[\u0027song\u0027] is None or row[\u0027length\u0027] is None or row[\u0027artist\u0027] is None:\n",
        "            continue\n",
        "    \n",
        "        song_data \u003d [row[\u0027song\u0027], row[\u0027length\u0027]]\n",
        "        artist_data \u003d [row[\u0027artist\u0027]]\n",
        "\n",
        "        # if no song id exists, skip row insert\n",
        "        song_id \u003d get_song_id(cur, conn, song_data)\n",
        "\n",
        "        if song_id is None:\n",
        "            continue\n",
        "\n",
        "        artist_id \u003d get_artist_id(cur, conn, artist_data)\n",
        "\n",
        "        # if no artist id exists, skip row insert\n",
        "        if artist_id is None:\n",
        "            continue\n",
        "\n",
        "        time_in_ms \u003d row[\u0027ts\u0027]\n",
        "        timestamp \u003d pd.to_datetime(time_in_ms, unit\u003d\u0027ms\u0027)\n",
        "\n",
        "        fact_songplays_data \u003d [timestamp, row[\u0027userId\u0027], row[\u0027level\u0027], song_id, artist_id,\n",
        "                               row[\u0027sessionId\u0027], row[\u0027location\u0027], row[\u0027userAgent\u0027]]\n",
        "\n",
        "        insert_into_fact_songplays_table(cur, conn, fact_songplays_data)\n",
        "    \n",
        "cur.execute(\"SELECT * from fact_songplays\", user_data)\n",
        "print(cur.fetchall())\n"
      ]
    },
    {
      "cell_type": "markdown",
      "metadata": {
        "pycharm": {}
      },
      "source": [
        "Run `test.ipynb` to see if you\u0027ve successfully added records to this table."
      ]
    },
    {
      "cell_type": "markdown",
      "metadata": {
        "pycharm": {}
      },
      "source": [
        "# Close Connection to Sparkify Database"
      ]
    },
    {
      "cell_type": "code",
      "execution_count": null,
      "metadata": {
        "pycharm": {}
      },
      "outputs": [],
      "source": [
        "conn.close()"
      ]
    },
    {
      "cell_type": "markdown",
      "metadata": {
        "pycharm": {}
      },
      "source": "# Implement `etl.py`\nUse what you\u0027ve completed in this notebook to implement `etl.py`."
    }
  ],
  "metadata": {
    "kernelspec": {
      "display_name": "Python 3",
      "language": "python",
      "name": "python3"
    },
    "language_info": {
      "codemirror_mode": {
        "name": "ipython",
        "version": 3
      },
      "file_extension": ".py",
      "mimetype": "text/x-python",
      "name": "python",
      "nbconvert_exporter": "python",
      "pygments_lexer": "ipython3",
      "version": "3.6.3"
    }
  },
  "nbformat": 4,
  "nbformat_minor": 2
}